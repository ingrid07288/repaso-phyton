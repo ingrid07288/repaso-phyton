{
  "nbformat": 4,
  "nbformat_minor": 0,
  "metadata": {
    "colab": {
      "provenance": [],
      "authorship_tag": "ABX9TyNLW4hfZwniXPcL238XW8qa",
      "include_colab_link": true
    },
    "kernelspec": {
      "name": "python3",
      "display_name": "Python 3"
    },
    "language_info": {
      "name": "python"
    }
  },
  "cells": [
    {
      "cell_type": "markdown",
      "metadata": {
        "id": "view-in-github",
        "colab_type": "text"
      },
      "source": [
        "<a href=\"https://colab.research.google.com/github/ingrid07288/repaso-phyton/blob/main/evaluacion_diagnostica_ipgp.ipynb\" target=\"_parent\"><img src=\"https://colab.research.google.com/assets/colab-badge.svg\" alt=\"Open In Colab\"/></a>"
      ]
    },
    {
      "cell_type": "code",
      "execution_count": 3,
      "metadata": {
        "colab": {
          "base_uri": "https://localhost:8080/"
        },
        "id": "oW_gy9cE0Bv4",
        "outputId": "b131e177-7990-4ea2-aac5-059a11593257"
      },
      "outputs": [
        {
          "output_type": "stream",
          "name": "stdout",
          "text": [
            "Ingresa tu nombre completo\n",
            "Ingresa tu nombre:  ingrid polette\n",
            "ingresa tu apellido paterno:  garcia\n",
            "ingresa tu apellido materno:  priego\n",
            "ingrid polette garcia priego\n"
          ]
        }
      ],
      "source": [
        "print(\"Ingresa tu nombre completo\")\n",
        "n=input(\"Ingresa tu nombre:  \")\n",
        "\n",
        "ap=input(\"ingresa tu apellido paterno:  \")\n",
        "\n",
        "am=input(\"ingresa tu apellido materno:  \")\n",
        "print(n,ap,am)\n"
      ]
    },
    {
      "cell_type": "code",
      "source": [
        "num1=float(input(\"Ingresa el primer numero: \"))\n",
        "num2=float(input(\"Ingresa el numero 2: \"))\n",
        "suma=num1+num2\n",
        "print(\"La suma de \", num1, \"y\", num2, \"es: \", suma)"
      ],
      "metadata": {
        "colab": {
          "base_uri": "https://localhost:8080/"
        },
        "id": "fh0NDWao2kN8",
        "outputId": "afe6c6b5-93db-4585-93ae-258a91465930"
      },
      "execution_count": 6,
      "outputs": [
        {
          "output_type": "stream",
          "name": "stdout",
          "text": [
            "Ingresa el primer numero: 34.56\n",
            "Ingresa el numero 2: 34.56\n",
            "La suma de  34.56 y 34.56 es:  69.12\n"
          ]
        }
      ]
    },
    {
      "cell_type": "code",
      "source": [
        "radio=float(input(\"Ingresa el radio del circulo: \"))\n",
        "area=3.1416*radio**2\n",
        "print(\"El area del circulo con radio  \",radio, \"es\" ,area)"
      ],
      "metadata": {
        "colab": {
          "base_uri": "https://localhost:8080/"
        },
        "id": "BOv4gOtD4l6i",
        "outputId": "7b5197c7-948c-495a-da02-76b9ebc77039"
      },
      "execution_count": 7,
      "outputs": [
        {
          "output_type": "stream",
          "name": "stdout",
          "text": [
            "Ingresa el radio del circulo: 5\n",
            "El area del circulo con radio   5.0 es 78.53999999999999\n"
          ]
        }
      ]
    },
    {
      "cell_type": "code",
      "source": [
        "db.carros.find({modelo:\"toyota\"})\n",
        "db.carros.find({nocarros:55})\n",
        "db.carros.find({marca: \"fiat\"})\n",
        "db.carros.find({color: \"azul\"})\n",
        "db.carros.find({moldelo: \"mustang\"})\n",
        "db.carros.find({nocarros:537})\n"
      ],
      "metadata": {
        "id": "vCt-7eMj5vxE"
      },
      "execution_count": null,
      "outputs": []
    },
    {
      "cell_type": "markdown",
      "source": [
        "1\tPágina1.- Imprimir nombre, paterno y materno de Alumno con CSS\n",
        "\n",
        "2\tPágina2.- Capturar 2 números decimales e imprimir Suma\n",
        "\n",
        "3\tPágina3.-  Calcular el área de un círculo\n",
        "\n",
        "\n",
        "4\tPagina4.- Ejemplo de código y ventana resultante de semestre pasado.\n"
      ],
      "metadata": {
        "id": "4mSysZqn0pw9"
      }
    }
  ]
}