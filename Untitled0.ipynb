{
  "nbformat": 4,
  "nbformat_minor": 0,
  "metadata": {
    "colab": {
      "provenance": [],
      "authorship_tag": "ABX9TyPzLEs1VAua8Duvyyxw5OxM",
      "include_colab_link": true
    },
    "kernelspec": {
      "name": "python3",
      "display_name": "Python 3"
    },
    "language_info": {
      "name": "python"
    }
  },
  "cells": [
    {
      "cell_type": "markdown",
      "metadata": {
        "id": "view-in-github",
        "colab_type": "text"
      },
      "source": [
        "<a href=\"https://colab.research.google.com/github/ingrid07288/repaso-phyton/blob/main/Untitled0.ipynb\" target=\"_parent\"><img src=\"https://colab.research.google.com/assets/colab-badge.svg\" alt=\"Open In Colab\"/></a>"
      ]
    },
    {
      "cell_type": "code",
      "execution_count": 4,
      "metadata": {
        "colab": {
          "base_uri": "https://localhost:8080/"
        },
        "id": "1Vu-tCdb5bum",
        "outputId": "ed9e1293-edc7-4a78-db1a-0aa72cf3e4ac"
      },
      "outputs": [
        {
          "output_type": "stream",
          "name": "stdout",
          "text": [
            "ingrese el primer numero2\n",
            "ingrese el segundo numero4\n",
            "suma: 6\n",
            "resta: -2\n",
            "multiplicacion: 8\n",
            "division: 0.5\n"
          ]
        }
      ],
      "source": [
        "num1=int(input(\"ingrese el primer numero\"))\n",
        "num2=int(input(\"ingrese el segundo numero\"))\n",
        "print(f\"suma: {num1+num2}\")\n",
        "print(f\"resta: {num1-num2}\")\n",
        "print(f\"multiplicacion: {num1*num2}\")\n",
        "print(f\"division: {num1/num2}\")"
      ]
    },
    {
      "cell_type": "code",
      "source": [
        "nombre=input(\"ingrese su nombre\")\n",
        "totalletras=len(nombre)\n",
        "print(\"el total de caracteres es\",totalletras)"
      ],
      "metadata": {
        "id": "oh4IqLym-nta"
      },
      "execution_count": null,
      "outputs": []
    },
    {
      "cell_type": "code",
      "source": [
        "semana=[\"lunes\",\"martes\",\"miercoles\",\"jueves\",\"viernes\",\"sabado\",\"domingo\"]\n",
        "print(semana)"
      ],
      "metadata": {
        "id": "_y_VSKKeA1Pd"
      },
      "execution_count": null,
      "outputs": []
    },
    {
      "cell_type": "markdown",
      "source": [
        "ejercicios a desarrollar en colab con github\n",
        "\n",
        "1.realizar un programa en phyton que  te permita capturar dos numeros enteros\n",
        "e imprima la suma, la resta, la multiplicacion y la division de ambos.\n",
        "\n",
        "2.realiza un programa en phyton mediante el cual calcules el total de los caracteres que tiene un nombre capturado desde el teclado\n",
        "\n",
        "3.realizar un programa en phyton que permita imprimir los 7 dias de la semana."
      ],
      "metadata": {
        "id": "096i-DaY5lhM"
      }
    }
  ]
}